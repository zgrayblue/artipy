{
 "cells": [
  {
   "cell_type": "code",
   "execution_count": 1,
   "id": "5c80c035-276d-4cb3-b11a-7c3f6861e7bb",
   "metadata": {},
   "outputs": [],
   "source": [
    "import pandas as pd\n",
    "import numpy as np"
   ]
  },
  {
   "cell_type": "code",
   "execution_count": 2,
   "id": "1a060b1b-0c8c-4083-8edc-f4d412fed679",
   "metadata": {},
   "outputs": [],
   "source": [
    "import os\n",
    "POSTGRES_PASSWORD = os.getenv('POSTGRES_PASSWORD')\n",
    "import psycopg2\n",
    "from sqlalchemy import create_engine"
   ]
  },
  {
   "cell_type": "markdown",
   "id": "cc331194-c772-4789-a2de-d070ac166e41",
   "metadata": {},
   "source": [
    "## Creating the Database"
   ]
  },
  {
   "cell_type": "code",
   "execution_count": 3,
   "id": "77e94729-bb57-45cc-88ef-5b318bf01007",
   "metadata": {},
   "outputs": [],
   "source": [
    "dbserver = psycopg2.connect(\n",
    "    host = 'postgres',\n",
    "    user = 'postgres',\n",
    "    password = POSTGRES_PASSWORD,\n",
    "    port = 5432\n",
    ")\n",
    "dbserver.autocommit = True"
   ]
  },
  {
   "cell_type": "code",
   "execution_count": 4,
   "id": "320c3a00-fd9f-40ea-a38a-dd03cab84cc6",
   "metadata": {},
   "outputs": [],
   "source": [
    "cursor = dbserver.cursor()"
   ]
  },
  {
   "cell_type": "code",
   "execution_count": 5,
   "id": "afecd2aa-e0af-4365-8a4d-e7cae7862841",
   "metadata": {},
   "outputs": [],
   "source": [
    "try:\n",
    "    cursor.execute('CREATE DATABASE artipy')\n",
    "except:\n",
    "    cursor.execute('DROP DATABASE artipy')\n",
    "    cursor.execute('CREATE DATABASE artipy')"
   ]
  },
  {
   "cell_type": "code",
   "execution_count": 4,
   "id": "1963cba2-bb5e-4a56-8139-3e6ebe9842d3",
   "metadata": {},
   "outputs": [],
   "source": [
    "engine = create_engine('postgresql+psycopg2://{user}:{password}@{host}:{port}/{db}'.format(\n",
    "    user = 'postgres',\n",
    "    password = POSTGRES_PASSWORD,\n",
    "    host = 'postgres',\n",
    "    port = 5432,\n",
    "    db = 'artipy'\n",
    "))"
   ]
  },
  {
   "cell_type": "markdown",
   "id": "d4b5d1ff-7457-449f-82c7-d4cfca9735f4",
   "metadata": {},
   "source": [
    "Need to upload:\n",
    "* merged_spotify\n",
    "* artworks"
   ]
  },
  {
   "cell_type": "code",
   "execution_count": 10,
   "id": "4dc4d4f5-6521-4417-bb99-4bde8fc70c70",
   "metadata": {},
   "outputs": [],
   "source": [
    "spotify = pd.read_csv('merged_spotify2.csv')"
   ]
  },
  {
   "cell_type": "code",
   "execution_count": 11,
   "id": "61d74aaf-6634-465c-a941-03891dc457d2",
   "metadata": {},
   "outputs": [],
   "source": [
    "artists = pd.read_csv('artists.csv')"
   ]
  },
  {
   "cell_type": "code",
   "execution_count": 12,
   "id": "c160e87a-21e5-4b25-8d11-a3f1645ced96",
   "metadata": {},
   "outputs": [
    {
     "name": "stdout",
     "output_type": "stream",
     "text": [
      "17428\n"
     ]
    }
   ],
   "source": [
    "print(artists.shape[0])"
   ]
  },
  {
   "cell_type": "code",
   "execution_count": 13,
   "id": "6093605b-3b91-46e6-8034-296b986a2e76",
   "metadata": {},
   "outputs": [
    {
     "data": {
      "text/plain": [
       "17428"
      ]
     },
     "execution_count": 13,
     "metadata": {},
     "output_type": "execute_result"
    }
   ],
   "source": [
    "artists.to_sql('artists', con=engine, index=False, chunksize=1000, if_exists = 'replace')"
   ]
  },
  {
   "cell_type": "code",
   "execution_count": 14,
   "id": "d522ce76-bfb5-4029-b838-4b691def229c",
   "metadata": {},
   "outputs": [
    {
     "name": "stdout",
     "output_type": "stream",
     "text": [
      "44043\n"
     ]
    }
   ],
   "source": [
    "print(spotify.shape[0])"
   ]
  },
  {
   "cell_type": "code",
   "execution_count": 15,
   "id": "bc90bb43-7ee0-40f0-a4bd-888704e29fac",
   "metadata": {},
   "outputs": [
    {
     "data": {
      "text/plain": [
       "44043"
      ]
     },
     "execution_count": 15,
     "metadata": {},
     "output_type": "execute_result"
    }
   ],
   "source": [
    "spotify.to_sql('spotify', con=engine, index=False, chunksize=1000, if_exists = 'replace')"
   ]
  },
  {
   "cell_type": "code",
   "execution_count": 16,
   "id": "90e1d4af-30ff-4d72-953f-71e5aeed8a84",
   "metadata": {},
   "outputs": [
    {
     "data": {
      "text/html": [
       "<div>\n",
       "<style scoped>\n",
       "    .dataframe tbody tr th:only-of-type {\n",
       "        vertical-align: middle;\n",
       "    }\n",
       "\n",
       "    .dataframe tbody tr th {\n",
       "        vertical-align: top;\n",
       "    }\n",
       "\n",
       "    .dataframe thead th {\n",
       "        text-align: right;\n",
       "    }\n",
       "</style>\n",
       "<table border=\"1\" class=\"dataframe\">\n",
       "  <thead>\n",
       "    <tr style=\"text-align: right;\">\n",
       "      <th></th>\n",
       "      <th>name</th>\n",
       "      <th>artists_names</th>\n",
       "      <th>release_date</th>\n",
       "    </tr>\n",
       "  </thead>\n",
       "  <tbody>\n",
       "    <tr>\n",
       "      <th>0</th>\n",
       "      <td>Chopin: Piano Sonata No. 2 in B-Flat Minor, Op...</td>\n",
       "      <td>Frédéric Chopin, Aimi Kobayashi</td>\n",
       "      <td>1900</td>\n",
       "    </tr>\n",
       "    <tr>\n",
       "      <th>1</th>\n",
       "      <td>Hold You - Hold Yuh</td>\n",
       "      <td>Gyptian</td>\n",
       "      <td>1900-01-01</td>\n",
       "    </tr>\n",
       "    <tr>\n",
       "      <th>2</th>\n",
       "      <td>Crazy Blues (Alternate Take)</td>\n",
       "      <td>Mamie Smith</td>\n",
       "      <td>1920-04-08</td>\n",
       "    </tr>\n",
       "    <tr>\n",
       "      <th>3</th>\n",
       "      <td>Jack I'm Mellow (Alternate Take 2)</td>\n",
       "      <td>Trixie Smith</td>\n",
       "      <td>1922-06-03</td>\n",
       "    </tr>\n",
       "    <tr>\n",
       "      <th>4</th>\n",
       "      <td>A Jealous Woman Like Me</td>\n",
       "      <td>Sippie Wallace</td>\n",
       "      <td>1924-05-27</td>\n",
       "    </tr>\n",
       "    <tr>\n",
       "      <th>...</th>\n",
       "      <td>...</td>\n",
       "      <td>...</td>\n",
       "      <td>...</td>\n",
       "    </tr>\n",
       "    <tr>\n",
       "      <th>44038</th>\n",
       "      <td>Nocturno</td>\n",
       "      <td>Emilio Montoya</td>\n",
       "      <td>2023-11-27</td>\n",
       "    </tr>\n",
       "    <tr>\n",
       "      <th>44039</th>\n",
       "      <td>Havana</td>\n",
       "      <td>Emilio Montoya</td>\n",
       "      <td>2023-11-27</td>\n",
       "    </tr>\n",
       "    <tr>\n",
       "      <th>44040</th>\n",
       "      <td>Crash</td>\n",
       "      <td>Charles Berthoud</td>\n",
       "      <td>2023-11-27</td>\n",
       "    </tr>\n",
       "    <tr>\n",
       "      <th>44041</th>\n",
       "      <td>Hey! Sunny!</td>\n",
       "      <td>SpecialThanks</td>\n",
       "      <td>2023-11-28</td>\n",
       "    </tr>\n",
       "    <tr>\n",
       "      <th>44042</th>\n",
       "      <td>竜の落とし子</td>\n",
       "      <td>May Forth</td>\n",
       "      <td>2023-11-29</td>\n",
       "    </tr>\n",
       "  </tbody>\n",
       "</table>\n",
       "<p>44043 rows × 3 columns</p>\n",
       "</div>"
      ],
      "text/plain": [
       "                                                    name  \\\n",
       "0      Chopin: Piano Sonata No. 2 in B-Flat Minor, Op...   \n",
       "1                                    Hold You - Hold Yuh   \n",
       "2                           Crazy Blues (Alternate Take)   \n",
       "3                     Jack I'm Mellow (Alternate Take 2)   \n",
       "4                                A Jealous Woman Like Me   \n",
       "...                                                  ...   \n",
       "44038                                           Nocturno   \n",
       "44039                                             Havana   \n",
       "44040                                              Crash   \n",
       "44041                                        Hey! Sunny!   \n",
       "44042                                             竜の落とし子   \n",
       "\n",
       "                         artists_names release_date  \n",
       "0      Frédéric Chopin, Aimi Kobayashi         1900  \n",
       "1                              Gyptian   1900-01-01  \n",
       "2                          Mamie Smith   1920-04-08  \n",
       "3                         Trixie Smith   1922-06-03  \n",
       "4                       Sippie Wallace   1924-05-27  \n",
       "...                                ...          ...  \n",
       "44038                   Emilio Montoya   2023-11-27  \n",
       "44039                   Emilio Montoya   2023-11-27  \n",
       "44040                 Charles Berthoud   2023-11-27  \n",
       "44041                    SpecialThanks   2023-11-28  \n",
       "44042                        May Forth   2023-11-29  \n",
       "\n",
       "[44043 rows x 3 columns]"
      ]
     },
     "execution_count": 16,
     "metadata": {},
     "output_type": "execute_result"
    }
   ],
   "source": [
    "myquery = '''\n",
    "SELECT name, artists_names, release_date\n",
    "FROM spotify\n",
    "ORDER BY release_date ASC\n",
    "'''\n",
    "\n",
    "df = pd.read_sql_query(myquery, con=engine)\n",
    "df"
   ]
  },
  {
   "cell_type": "code",
   "execution_count": 5,
   "id": "ee0f9aac-1311-4db5-b01a-3fa1c56f019a",
   "metadata": {},
   "outputs": [
    {
     "data": {
      "text/html": [
       "<div>\n",
       "<style scoped>\n",
       "    .dataframe tbody tr th:only-of-type {\n",
       "        vertical-align: middle;\n",
       "    }\n",
       "\n",
       "    .dataframe tbody tr th {\n",
       "        vertical-align: top;\n",
       "    }\n",
       "\n",
       "    .dataframe thead th {\n",
       "        text-align: right;\n",
       "    }\n",
       "</style>\n",
       "<table border=\"1\" class=\"dataframe\">\n",
       "  <thead>\n",
       "    <tr style=\"text-align: right;\">\n",
       "      <th></th>\n",
       "      <th>genres</th>\n",
       "      <th>artist_id</th>\n",
       "      <th>artist_name</th>\n",
       "    </tr>\n",
       "  </thead>\n",
       "  <tbody>\n",
       "    <tr>\n",
       "      <th>0</th>\n",
       "      <td>mexican hip hop</td>\n",
       "      <td>058UB4RScZTwG7bPiH79Ps</td>\n",
       "      <td>Ali Masare</td>\n",
       "    </tr>\n",
       "    <tr>\n",
       "      <th>1</th>\n",
       "      <td>mexican hip hop</td>\n",
       "      <td>0U5RYP2HMdGv2GhicLhkOI</td>\n",
       "      <td>Neto Peña</td>\n",
       "    </tr>\n",
       "    <tr>\n",
       "      <th>2</th>\n",
       "      <td>mexican hip hop</td>\n",
       "      <td>0XVOL55Wa1lbWs1tAsv5nf</td>\n",
       "      <td>Berbal La 4 Verde</td>\n",
       "    </tr>\n",
       "    <tr>\n",
       "      <th>3</th>\n",
       "      <td>mexican hip hop</td>\n",
       "      <td>0l1OSQn6GtjfEE1Cb8LE1t</td>\n",
       "      <td>Zimple</td>\n",
       "    </tr>\n",
       "    <tr>\n",
       "      <th>4</th>\n",
       "      <td>mexican hip hop</td>\n",
       "      <td>1FCItwxfRieMGhR0eRxotU</td>\n",
       "      <td>Rich Vagos</td>\n",
       "    </tr>\n",
       "    <tr>\n",
       "      <th>5</th>\n",
       "      <td>mexican hip hop</td>\n",
       "      <td>1gPiNBRjOB9XochAAFR3iM</td>\n",
       "      <td>West Gold</td>\n",
       "    </tr>\n",
       "    <tr>\n",
       "      <th>6</th>\n",
       "      <td>mexican hip hop</td>\n",
       "      <td>1oHPSeQJBwNmpq0J52Wjn1</td>\n",
       "      <td>Toser One</td>\n",
       "    </tr>\n",
       "    <tr>\n",
       "      <th>7</th>\n",
       "      <td>mexican hip hop</td>\n",
       "      <td>1txbs9MMkT4FszkaA96atm</td>\n",
       "      <td>Coko Yamasaki</td>\n",
       "    </tr>\n",
       "    <tr>\n",
       "      <th>8</th>\n",
       "      <td>mexican hip hop</td>\n",
       "      <td>2Gcx4c9rFAAloAYV2cMGUd</td>\n",
       "      <td>Proof</td>\n",
       "    </tr>\n",
       "    <tr>\n",
       "      <th>9</th>\n",
       "      <td>mexican hip hop</td>\n",
       "      <td>2NtN73hhhgFt2NmbBOlFz1</td>\n",
       "      <td>Under Side 821</td>\n",
       "    </tr>\n",
       "    <tr>\n",
       "      <th>10</th>\n",
       "      <td>mexican hip hop</td>\n",
       "      <td>2wqy0ojBEcx7OvHezdGDXQ</td>\n",
       "      <td>W. Corona</td>\n",
       "    </tr>\n",
       "    <tr>\n",
       "      <th>11</th>\n",
       "      <td>mexican hip hop</td>\n",
       "      <td>3vV4Tf1iC8vEP9fLOLGUfP</td>\n",
       "      <td>La Banda Baston</td>\n",
       "    </tr>\n",
       "    <tr>\n",
       "      <th>12</th>\n",
       "      <td>mexican hip hop</td>\n",
       "      <td>4Hzj6dfl1y5x5TzCSsvLB6</td>\n",
       "      <td>Remik Gonzalez</td>\n",
       "    </tr>\n",
       "    <tr>\n",
       "      <th>13</th>\n",
       "      <td>mexican hip hop</td>\n",
       "      <td>4V2V4PaSblStayYVWTGDbZ</td>\n",
       "      <td>Geassassin</td>\n",
       "    </tr>\n",
       "    <tr>\n",
       "      <th>14</th>\n",
       "      <td>mexican hip hop</td>\n",
       "      <td>4tm8CEdm4pkQsEh4jIr9Yp</td>\n",
       "      <td>Santa Fe Klan</td>\n",
       "    </tr>\n",
       "    <tr>\n",
       "      <th>15</th>\n",
       "      <td>mexican hip hop</td>\n",
       "      <td>5MRMYpdAWZawm3ivBeWvdK</td>\n",
       "      <td>Teeam Revolver</td>\n",
       "    </tr>\n",
       "    <tr>\n",
       "      <th>16</th>\n",
       "      <td>mexican hip hop</td>\n",
       "      <td>6DjBv6gyR1HLsvwGUOD5V9</td>\n",
       "      <td>TREN LOKOTE</td>\n",
       "    </tr>\n",
       "    <tr>\n",
       "      <th>17</th>\n",
       "      <td>mexican hip hop</td>\n",
       "      <td>6JG2QQcaQBzinELNvu9PRk</td>\n",
       "      <td>Bipo Montana</td>\n",
       "    </tr>\n",
       "    <tr>\n",
       "      <th>18</th>\n",
       "      <td>mexican hip hop</td>\n",
       "      <td>6eXHRfK9Ad3IpMpSAqvcDf</td>\n",
       "      <td>Lefty Sm</td>\n",
       "    </tr>\n",
       "    <tr>\n",
       "      <th>19</th>\n",
       "      <td>mexican hip hop</td>\n",
       "      <td>6tJRAxu0HwB2GI9GueEj4l</td>\n",
       "      <td>Faruz Feet</td>\n",
       "    </tr>\n",
       "    <tr>\n",
       "      <th>20</th>\n",
       "      <td>mexican hip hop</td>\n",
       "      <td>74OPWhLPyLylAzgqcJlNMm</td>\n",
       "      <td>Fermin IV</td>\n",
       "    </tr>\n",
       "    <tr>\n",
       "      <th>21</th>\n",
       "      <td>mexican hip hop</td>\n",
       "      <td>7j8jaHM5LlrFnDxJTbG2wr</td>\n",
       "      <td>Alexis Chaires</td>\n",
       "    </tr>\n",
       "    <tr>\n",
       "      <th>22</th>\n",
       "      <td>mexican hip hop</td>\n",
       "      <td>7sgnuH8OwU32WbGLZwD03q</td>\n",
       "      <td>Neto Reyno</td>\n",
       "    </tr>\n",
       "    <tr>\n",
       "      <th>23</th>\n",
       "      <td>mexican hip hop</td>\n",
       "      <td>7zvcqoLiInqmSmPzX0gwfp</td>\n",
       "      <td>Chato 473</td>\n",
       "    </tr>\n",
       "    <tr>\n",
       "      <th>24</th>\n",
       "      <td>mexican hip hop</td>\n",
       "      <td>7zvcqoLiInqmSmPzX0gwfp</td>\n",
       "      <td>Chato 473</td>\n",
       "    </tr>\n",
       "  </tbody>\n",
       "</table>\n",
       "</div>"
      ],
      "text/plain": [
       "             genres               artist_id        artist_name\n",
       "0   mexican hip hop  058UB4RScZTwG7bPiH79Ps         Ali Masare\n",
       "1   mexican hip hop  0U5RYP2HMdGv2GhicLhkOI          Neto Peña\n",
       "2   mexican hip hop  0XVOL55Wa1lbWs1tAsv5nf  Berbal La 4 Verde\n",
       "3   mexican hip hop  0l1OSQn6GtjfEE1Cb8LE1t             Zimple\n",
       "4   mexican hip hop  1FCItwxfRieMGhR0eRxotU         Rich Vagos\n",
       "5   mexican hip hop  1gPiNBRjOB9XochAAFR3iM          West Gold\n",
       "6   mexican hip hop  1oHPSeQJBwNmpq0J52Wjn1          Toser One\n",
       "7   mexican hip hop  1txbs9MMkT4FszkaA96atm      Coko Yamasaki\n",
       "8   mexican hip hop  2Gcx4c9rFAAloAYV2cMGUd              Proof\n",
       "9   mexican hip hop  2NtN73hhhgFt2NmbBOlFz1     Under Side 821\n",
       "10  mexican hip hop  2wqy0ojBEcx7OvHezdGDXQ          W. Corona\n",
       "11  mexican hip hop  3vV4Tf1iC8vEP9fLOLGUfP    La Banda Baston\n",
       "12  mexican hip hop  4Hzj6dfl1y5x5TzCSsvLB6     Remik Gonzalez\n",
       "13  mexican hip hop  4V2V4PaSblStayYVWTGDbZ         Geassassin\n",
       "14  mexican hip hop  4tm8CEdm4pkQsEh4jIr9Yp      Santa Fe Klan\n",
       "15  mexican hip hop  5MRMYpdAWZawm3ivBeWvdK     Teeam Revolver\n",
       "16  mexican hip hop  6DjBv6gyR1HLsvwGUOD5V9        TREN LOKOTE\n",
       "17  mexican hip hop  6JG2QQcaQBzinELNvu9PRk       Bipo Montana\n",
       "18  mexican hip hop  6eXHRfK9Ad3IpMpSAqvcDf           Lefty Sm\n",
       "19  mexican hip hop  6tJRAxu0HwB2GI9GueEj4l         Faruz Feet\n",
       "20  mexican hip hop  74OPWhLPyLylAzgqcJlNMm          Fermin IV\n",
       "21  mexican hip hop  7j8jaHM5LlrFnDxJTbG2wr     Alexis Chaires\n",
       "22  mexican hip hop  7sgnuH8OwU32WbGLZwD03q         Neto Reyno\n",
       "23  mexican hip hop  7zvcqoLiInqmSmPzX0gwfp          Chato 473\n",
       "24  mexican hip hop  7zvcqoLiInqmSmPzX0gwfp          Chato 473"
      ]
     },
     "execution_count": 5,
     "metadata": {},
     "output_type": "execute_result"
    }
   ],
   "source": [
    "myquery = '''\n",
    "SELECT *\n",
    "FROM artists\n",
    "WHERE genres = 'mexican hip hop'\n",
    "'''\n",
    "\n",
    "df = pd.read_sql_query(myquery, con=engine)\n",
    "df"
   ]
  },
  {
   "cell_type": "code",
   "execution_count": null,
   "id": "627bb692-ce1b-4c72-8937-223797ae63a7",
   "metadata": {},
   "outputs": [],
   "source": []
  }
 ],
 "metadata": {
  "kernelspec": {
   "display_name": "Python 3 (ipykernel)",
   "language": "python",
   "name": "python3"
  },
  "language_info": {
   "codemirror_mode": {
    "name": "ipython",
    "version": 3
   },
   "file_extension": ".py",
   "mimetype": "text/x-python",
   "name": "python",
   "nbconvert_exporter": "python",
   "pygments_lexer": "ipython3",
   "version": "3.11.4"
  }
 },
 "nbformat": 4,
 "nbformat_minor": 5
}
