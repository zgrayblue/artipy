{
 "cells": [
  {
   "cell_type": "code",
   "execution_count": 1,
   "id": "1a060b1b-0c8c-4083-8edc-f4d412fed679",
   "metadata": {},
   "outputs": [],
   "source": [
    "import os\n",
    "POSTGRES_PASSWORD = os.getenv('POSTGRES_PASSWORD')\n",
    "import psycopg2\n",
    "from sqlalchemy import create_engine"
   ]
  },
  {
   "cell_type": "markdown",
   "id": "cc331194-c772-4789-a2de-d070ac166e41",
   "metadata": {},
   "source": [
    "## Creating the Database"
   ]
  },
  {
   "cell_type": "code",
   "execution_count": null,
   "id": "77e94729-bb57-45cc-88ef-5b318bf01007",
   "metadata": {},
   "outputs": [],
   "source": [
    "dbserver = psycopg2.connect(\n",
    "    host = 'postgres',\n",
    "    user = 'postgres',\n",
    "    password = POSTGRES_PASSWORD,\n",
    "    port = 5432\n",
    ")\n",
    "dbserver.autocommit = True"
   ]
  },
  {
   "cell_type": "code",
   "execution_count": null,
   "id": "320c3a00-fd9f-40ea-a38a-dd03cab84cc6",
   "metadata": {},
   "outputs": [],
   "source": [
    "cursor = dbserver.cursor()"
   ]
  },
  {
   "cell_type": "code",
   "execution_count": null,
   "id": "afecd2aa-e0af-4365-8a4d-e7cae7862841",
   "metadata": {},
   "outputs": [],
   "source": [
    "try:\n",
    "    cursor.execute('CREATE DATABASE spotify')\n",
    "except:\n",
    "    cursor.execute('DROP DATABASE spotify')\n",
    "    cursor.execute('CREATE DATABASE spotify')"
   ]
  },
  {
   "cell_type": "code",
   "execution_count": null,
   "id": "1963cba2-bb5e-4a56-8139-3e6ebe9842d3",
   "metadata": {},
   "outputs": [],
   "source": [
    "engine = create_engine('postgresql+psycopg2://{user}:{password}@{host}:{port}/{db}'.format(\n",
    "    user = 'postgres',\n",
    "    password = POSTGRES_PASSWORD,\n",
    "    host = 'postgres',\n",
    "    port = 5432,\n",
    "    db = 'spotify'\n",
    "))"
   ]
  },
  {
   "cell_type": "markdown",
   "id": "d4b5d1ff-7457-449f-82c7-d4cfca9735f4",
   "metadata": {},
   "source": [
    "Need to upload:\n",
    "* merged_spotify\n",
    "* artworks"
   ]
  },
  {
   "cell_type": "code",
   "execution_count": null,
   "id": "d522ce76-bfb5-4029-b838-4b691def229c",
   "metadata": {},
   "outputs": [],
   "source": [
    "print(audio_features.shape[0])\n",
    "audio_features.to_sql('audio_features', con=engine, index=False, chunksize=1000, if_exists = 'replace')"
   ]
  }
 ],
 "metadata": {
  "kernelspec": {
   "display_name": "Python 3 (ipykernel)",
   "language": "python",
   "name": "python3"
  },
  "language_info": {
   "codemirror_mode": {
    "name": "ipython",
    "version": 3
   },
   "file_extension": ".py",
   "mimetype": "text/x-python",
   "name": "python",
   "nbconvert_exporter": "python",
   "pygments_lexer": "ipython3",
   "version": "3.11.4"
  }
 },
 "nbformat": 4,
 "nbformat_minor": 5
}
