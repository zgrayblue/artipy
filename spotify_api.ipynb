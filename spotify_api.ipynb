{
 "cells": [
  {
   "cell_type": "code",
   "execution_count": 1,
   "id": "fbf693cc-be8c-4f3e-ab93-e6d258c6c1d7",
   "metadata": {},
   "outputs": [],
   "source": [
    "import numpy as np\n",
    "import pandas as pd\n",
    "import requests\n",
    "import os\n",
    "import json"
   ]
  },
  {
   "cell_type": "code",
   "execution_count": 2,
   "id": "274ea203-f348-43f7-94ee-4d92fc6837be",
   "metadata": {},
   "outputs": [],
   "source": [
    "spotify_clientID = os.getenv('spotify_clientID')\n",
    "spotify_clientsecret = os.getenv('spotify_clientsecret')"
   ]
  },
  {
   "cell_type": "code",
   "execution_count": null,
   "id": "d0ad6e09-4305-4b29-8840-734b341e280b",
   "metadata": {},
   "outputs": [],
   "source": []
  }
 ],
 "metadata": {
  "kernelspec": {
   "display_name": "Python 3 (ipykernel)",
   "language": "python",
   "name": "python3"
  },
  "language_info": {
   "codemirror_mode": {
    "name": "ipython",
    "version": 3
   },
   "file_extension": ".py",
   "mimetype": "text/x-python",
   "name": "python",
   "nbconvert_exporter": "python",
   "pygments_lexer": "ipython3",
   "version": "3.11.4"
  }
 },
 "nbformat": 4,
 "nbformat_minor": 5
}
